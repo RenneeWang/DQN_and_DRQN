{
 "cells": [
  {
   "cell_type": "markdown",
   "metadata": {},
   "source": [
    "# In this notebook we check what the agent has learnt"
   ]
  },
  {
   "cell_type": "code",
   "execution_count": null,
   "metadata": {},
   "outputs": [],
   "source": [
    "import gym\n",
    "import torch\n",
    "from collections import deque\n",
    "import numpy as np\n",
    "import matplotlib.pyplot as plt\n",
    "\n",
    "from config import *\n",
    "from agent import *\n",
    "from utils import *"
   ]
  },
  {
   "cell_type": "markdown",
   "metadata": {},
   "source": [
    "## 1) Skiing\n",
    "\n",
    "### 1) rewards"
   ]
  },
  {
   "cell_type": "code",
   "execution_count": null,
   "metadata": {},
   "outputs": [],
   "source": [
    "rewards = np.load('./skiing_result/LunarLander-v2_r5_rewards.npy')\n",
    "plt.plot(rewards)\n",
    "plt.show()"
   ]
  },
  {
   "cell_type": "code",
   "execution_count": null,
   "metadata": {},
   "outputs": [],
   "source": [
    "average = [np.mean(rewards[i-100:i]) for i in range(100, len(rewards))]\n",
    "plt.plot(average)\n",
    "plt.show()"
   ]
  },
  {
   "cell_type": "markdown",
   "metadata": {},
   "source": [
    "### 2) watch the show"
   ]
  },
  {
   "cell_type": "code",
   "execution_count": null,
   "metadata": {},
   "outputs": [],
   "source": [
    "env = gym.make(\"Skiing-ramDeterministic-v4\")\n",
    "agent = Agent(env.observation_space.shape[0], env.action_space.n, BATCH_SIZE, LEARNING_RATE, TAU, GAMMA, DEVICE, False)\n",
    "agent.Q_local.load_state_dict(torch.load('./skiing_results/Skiing-ramDeterministic-v4_rewards.npy'))\n",
    "\n",
    "rewards_log = []\n",
    "eps = EPS_MIN\n",
    "num_episode = 3\n",
    "max_t = 1000\n",
    "\n",
    "for i in range(1, 1 + num_episode):\n",
    "\n",
    "    episodic_reward = 0\n",
    "    done = False\n",
    "    state = env.reset()\n",
    "    t = 0\n",
    "\n",
    "    while not done and t < max_t:\n",
    "\n",
    "        env.render()\n",
    "        t += 1\n",
    "        action = agent.act(state, eps)\n",
    "        next_state, reward, done, _ = env.step(action)\n",
    "        state = next_state.copy()\n",
    "        episodic_reward += reward\n",
    "\n",
    "    rewards_log.append(episodic_reward)\n",
    "    \n",
    "rewards_log"
   ]
  },
  {
   "cell_type": "code",
   "execution_count": null,
   "metadata": {},
   "outputs": [],
   "source": [
    "env.close()"
   ]
  },
  {
   "cell_type": "markdown",
   "metadata": {},
   "source": [
    "## 2) LunarLander\n",
    "\n",
    "### 1) rewards"
   ]
  },
  {
   "cell_type": "code",
   "execution_count": null,
   "metadata": {},
   "outputs": [],
   "source": [
    "rewards = np.load('./lunarlander_results/LunarLander-v2_r5_rewards.npy')\n",
    "plt.plot(rewards)\n",
    "plt.show()"
   ]
  },
  {
   "cell_type": "code",
   "execution_count": null,
   "metadata": {},
   "outputs": [],
   "source": [
    "average = [np.mean(rewards[i-100:i]) for i in range(100, len(rewards))]\n",
    "plt.plot(average)\n",
    "plt.show()"
   ]
  },
  {
   "cell_type": "markdown",
   "metadata": {},
   "source": [
    "### 2) watch the show"
   ]
  },
  {
   "cell_type": "code",
   "execution_count": null,
   "metadata": {},
   "outputs": [],
   "source": [
    "env = gym.make(\"LunarLander-v2\")\n",
    "agent = Agent(env.observation_space.shape[0], env.action_space.n, BATCH_SIZE, LEARNING_RATE, TAU, GAMMA, DEVICE, False)\n",
    "agent.Q_local.load_state_dict(torch.load('./lunarlander_results/LunarLander-v2_r5_weights.pth'))\n",
    "\n",
    "rewards_log = []\n",
    "eps = EPS_MIN\n",
    "num_episode = 3\n",
    "max_t = 1000\n",
    "\n",
    "for i in range(1, 1 + num_episode):\n",
    "\n",
    "    episodic_reward = 0\n",
    "    done = False\n",
    "    state = env.reset()\n",
    "    t = 0\n",
    "\n",
    "    while not done and t < max_t:\n",
    "\n",
    "        env.render()\n",
    "        t += 1\n",
    "        action = agent.act(state, eps)\n",
    "        next_state, reward, done, _ = env.step(action)\n",
    "        state = next_state.copy()\n",
    "        episodic_reward += reward\n",
    "\n",
    "    rewards_log.append(episodic_reward)\n",
    "    \n",
    "rewards_log"
   ]
  },
  {
   "cell_type": "code",
   "execution_count": null,
   "metadata": {},
   "outputs": [],
   "source": [
    "env.close()"
   ]
  }
 ],
 "metadata": {
  "kernelspec": {
   "display_name": "Python 3",
   "language": "python",
   "name": "python3"
  },
  "language_info": {
   "codemirror_mode": {
    "name": "ipython",
    "version": 3
   },
   "file_extension": ".py",
   "mimetype": "text/x-python",
   "name": "python",
   "nbconvert_exporter": "python",
   "pygments_lexer": "ipython3",
   "version": "3.8.5"
  }
 },
 "nbformat": 4,
 "nbformat_minor": 2
}
